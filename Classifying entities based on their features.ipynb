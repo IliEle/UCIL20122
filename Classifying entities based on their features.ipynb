{
 "cells": [
  {
   "cell_type": "markdown",
   "metadata": {},
   "source": [
    "# 2. Classifying entities based on their features"
   ]
  },
  {
   "cell_type": "markdown",
   "metadata": {},
   "source": [
    "**Classification** is an important concept in machine learning, as it's something that computers are commonly trained to do. \n",
    "\n",
    "In this exercise, we're going to **classify** whether a person is a ballet dancer or a rugby player based on a set of **features** that describe them. A **feature** is a measurable property or characteristic of an entity. Here, the features are sex, age, weight, height, and the entity is a person. \n",
    "\n",
    "Next week, we will train a machine learning algorithm to do this for us.\n",
    "\n",
    "As we go through the exercise, we explain what is happening in the code. Don't worry if you don't understand all of it - the main purpose is to give you an overview of how we can use Python to help us understand data."
   ]
  },
  {
   "cell_type": "markdown",
   "metadata": {},
   "source": [
    "As a first step, let's take a look at the data. The table below shows a sample of people who are either ballet dancers or rugby players. Age, weight and height are represented as numbers. Notice that sex is represented as a number too, because it's easier for the algorithm to work with numbers than letters. Here, we represent **males** as 0 and **females** as 1."
   ]
  },
  {
   "cell_type": "markdown",
   "metadata": {},
   "source": [
    "|Person ID|Sex (0/1)|Age |Weight (Kg)|Height (cm)|\n",
    "|------|---------|----|-----------|-----------|\n",
    "|     1|        1|  24|         63|        190|\n",
    "|     2|        1|  20|         55|        185|\n",
    "|     3|        0|  25|         75|        202|\n",
    "|     4|        1|  30|         50|        180|\n",
    "|     5|        0|  19|         57|        174|\n",
    "|     6|        0|  31|         85|        150|\n",
    "|     7|        1|  28|         93|        145|\n",
    "|     8|        0|  29|         75|        130|\n",
    "|     9|        0|  24|         99|        163|\n",
    "|    10|        0|  30|        100|        171|"
   ]
  },
  {
   "cell_type": "markdown",
   "metadata": {},
   "source": [
    "Before we can perform any analysis, we need to load the data into memory, so that the computer program can access it. To do this, we first `import` the *numpy* package. This provides access to existing Python code that we can use to help us manipulate the data. "
   ]
  },
  {
   "cell_type": "code",
   "execution_count": null,
   "metadata": {},
   "outputs": [],
   "source": [
    "import numpy as np\n",
    "\n",
    "#This loads the file 'people.csv' into a variable called 'data' so we can work with it\n",
    "#CSV files are 'comma separated value' files, which mean that columns are separated by commas, \n",
    "#and rows are separated by new line characters\n",
    "data = np.genfromtxt(\"data/people.csv\", delimiter=\",\", names=True)"
   ]
  },
  {
   "cell_type": "markdown",
   "metadata": {},
   "source": [
    "Now the data is loaded, we can start to explore it.\n",
    "\n",
    "Let's print the column names:"
   ]
  },
  {
   "cell_type": "code",
   "execution_count": null,
   "metadata": {},
   "outputs": [],
   "source": [
    "print(data.dtype.names)"
   ]
  },
  {
   "cell_type": "markdown",
   "metadata": {},
   "source": [
    "You can print out the data values contained in each of the columns. Run the cell below, then try changing which column name is returned, and re-run it to see the different data."
   ]
  },
  {
   "cell_type": "code",
   "execution_count": null,
   "metadata": {},
   "outputs": [],
   "source": [
    "print(data[\"Weight\"])"
   ]
  },
  {
   "cell_type": "markdown",
   "metadata": {},
   "source": [
    "We can draw a scatter plot of the data. We're using the *matplotlib* package to do this."
   ]
  },
  {
   "cell_type": "code",
   "execution_count": null,
   "metadata": {},
   "outputs": [],
   "source": [
    "import matplotlib.pyplot as plt\n",
    "\n",
    "#Set Age values to be shown on the x axis\n",
    "x_axis = \"Age\"\n",
    "\n",
    "#Set Weight values to be shown on the y axis\n",
    "y_axis = \"Weight\"\n",
    "\n",
    "#Say what the axes represent\n",
    "plt.scatter(data[x_axis], data[y_axis])\n",
    "\n",
    "#Set the title\n",
    "plt.title(\"Data distribution of %s against %s\" % (x_axis, y_axis))\n",
    "\n",
    "#Label the axes\n",
    "plt.xlabel(x_axis)\n",
    "plt.ylabel(y_axis)\n",
    "\n",
    "#display the graph\n",
    "plt.show()"
   ]
  },
  {
   "cell_type": "markdown",
   "metadata": {},
   "source": [
    "Why is it useful to do this *programmatically*, rather than manually (drawing the graph yourself)? How does it compare with a tool like Excel?"
   ]
  },
  {
   "cell_type": "markdown",
   "metadata": {},
   "source": [
    "Try plotting different columns of data against each other by changing the `x_axis` and `y_axis` variables above and rerunning the cell, and try to answer the following questions:\n",
    "\n",
    "Which pair of columns gives us two distinct clusters?\n",
    "\n",
    "Is \"Sex\" a useful differentiator for this data?"
   ]
  }
 ],
 "metadata": {
  "kernelspec": {
   "display_name": "Python 3",
   "language": "python",
   "name": "python3"
  },
  "language_info": {
   "codemirror_mode": {
    "name": "ipython",
    "version": 3
   },
   "file_extension": ".py",
   "mimetype": "text/x-python",
   "name": "python",
   "nbconvert_exporter": "python",
   "pygments_lexer": "ipython3",
   "version": "3.7.2"
  }
 },
 "nbformat": 4,
 "nbformat_minor": 2
}
