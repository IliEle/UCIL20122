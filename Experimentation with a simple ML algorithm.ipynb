{
 "cells": [
  {
   "cell_type": "markdown",
   "metadata": {},
   "source": [
    "# 2. Experimentation with a simple Machine Learning algorithm"
   ]
  },
  {
   "cell_type": "markdown",
   "metadata": {},
   "source": [
    "The **k-nearest neighbour** is one of the simplest algorithm used in Machine Learning. This algorithm classifies objects based on **features**. In Machine Learning, a **feature** is an individual measurable property or characteristic of a phaenomenon being observed.\n",
    "\n",
    "Assuming that we want to develop a program to identify whether a person is a ballet dancer or a rugby player, which of the following features you consider distinguishing? Run the following cell and select the answer."
   ]
  },
  {
   "cell_type": "markdown",
   "metadata": {},
   "source": [
    "In our analysis, consider the data sets below collected from a sample of ballet dancer and rugby players. In this table, we will represent **males** as 0 and **females** as 1."
   ]
  },
  {
   "cell_type": "markdown",
   "metadata": {},
   "source": [
    "|Person ID|Sex (0/1)|Age |Weight (Kg)|Height (cm)|\n",
    "|------|---------|----|-----------|-----------|\n",
    "|     1|        1|  24|         63|        190|\n",
    "|     2|        1|  20|         55|        185|\n",
    "|     3|        0|  25|         75|        202|\n",
    "|     4|        1|  30|         50|        180|\n",
    "|     5|        0|  19|         57|        174|\n",
    "|     6|        0|  31|         85|        150|\n",
    "|     7|        1|  28|         93|        145|\n",
    "|     8|        0|  29|         75|        130|\n",
    "|     9|        0|  24|         99|        163|\n",
    "|    10|        0|  30|        100|        171|"
   ]
  },
  {
   "cell_type": "markdown",
   "metadata": {},
   "source": [
    "Now, let's represent these values in 2-dimentional spaces taking different groups of 2 features into consideration. Please execute the code below to see how **weight** and **age** data is distributed in a 2 dimentional space."
   ]
  },
  {
   "cell_type": "code",
   "execution_count": null,
   "metadata": {},
   "outputs": [],
   "source": [
    "import numpy as np\n",
    "\n",
    "data = np.genfromtxt(\"data/people.csv\", delimiter=\",\", names=True)"
   ]
  },
  {
   "cell_type": "markdown",
   "metadata": {},
   "source": [
    "You can print the column names:"
   ]
  },
  {
   "cell_type": "code",
   "execution_count": null,
   "metadata": {},
   "outputs": [],
   "source": [
    "print(data.dtype.names)"
   ]
  },
  {
   "cell_type": "markdown",
   "metadata": {},
   "source": [
    "You can print out the data in each of the columns:"
   ]
  },
  {
   "cell_type": "code",
   "execution_count": null,
   "metadata": {},
   "outputs": [],
   "source": [
    "print(data[\"Age\"])"
   ]
  },
  {
   "cell_type": "markdown",
   "metadata": {},
   "source": [
    "You can plot a scatter plot of the data:"
   ]
  },
  {
   "cell_type": "code",
   "execution_count": null,
   "metadata": {},
   "outputs": [],
   "source": [
    "import matplotlib.pyplot as plt\n",
    "\n",
    "x_axis = \"Age\"\n",
    "y_axis = \"Weight\"\n",
    "\n",
    "#Plot the graph\n",
    "plt.scatter(data[x_axis], data[y_axis])\n",
    "plt.title(\"Data distribution of %s against %s\" % (x_axis, y_axis))\n",
    "plt.xlabel(x_axis)\n",
    "plt.ylabel(y_axis)\n",
    "plt.show()"
   ]
  },
  {
   "cell_type": "markdown",
   "metadata": {},
   "source": [
    "Try plotting different columns of data against each other. Which pair of columns gives us two distinct clusters?"
   ]
  },
  {
   "cell_type": "markdown",
   "metadata": {},
   "source": [
    "Now that we clearly identified  2 data clusters (i.e. ballet dancers and rugby players), we can introduce our own data and predict whether our example is a rugby player or a ballet dancer. The data will be classified by the aid of the **k-nearest algorithm** which is designed (as the name suggests), to identify which class the new objects belongs to depending on the closests **k** neighbours. In this case, to calculate the distance between the input point and its neighbours, we'll use the **Pythagorean formula** : $$d = \\sqrt{(x_{2} - x_{1})^2 + (y_{2}-y_{1})^2}$$"
   ]
  },
  {
   "cell_type": "markdown",
   "metadata": {},
   "source": [
    "For now, let's preapare the data from the graph into a matrix that can be processed by the algorithm. Execute the cell below."
   ]
  },
  {
   "cell_type": "code",
   "execution_count": null,
   "metadata": {},
   "outputs": [],
   "source": [
    "featuresMatrix = np.c_[transpose(heights), transpose(weights)]\n",
    "labelsMatrix = transpose([1, 1, 1, 1, 1, 0, 0, 0, 0, 0])\n",
    "trainingMatrix = np.c_[featuresMatrix, labelsMatrix]"
   ]
  },
  {
   "cell_type": "markdown",
   "metadata": {},
   "source": [
    "Next, replace the words in the code below to introduce your testing point containing the height and weight of a famouse rugby player or ballet dancer."
   ]
  },
  {
   "cell_type": "code",
   "execution_count": null,
   "metadata": {},
   "outputs": [],
   "source": [
    "#replace the ? below with your own testing value and run the code\n",
    "import math\n",
    "\n",
    "distances = np.empty([0,2])\n",
    "\n",
    "height = 150\n",
    "weight = 100\n",
    "\n",
    "testingPoint = [height, weight]\n",
    "\n",
    "#calculate the distances\n",
    "for trainingPoint in trainingMatrix:\n",
    "    trainingPoint[0]\n",
    "    distance = math.sqrt((trainingPoint[0] - height)**2 + (trainingPoint[1] - weight)**2)\n",
    "    distances = np.vstack([distances, [distance, trainingPoint[2]]])\n",
    "\n",
    "#sort the distances    \n",
    "distances = distances[distances[:,0].argsort()]\n",
    "\n",
    "classOne = 0\n",
    "classTwo = 0\n",
    "\n",
    "for i in range(0,5):\n",
    "    if distances[i][1] == 1:\n",
    "        classOne = classOne + 1\n",
    "    else:\n",
    "        classTwo = classTwo + 1\n",
    "\n",
    "if classOne > classTwo:\n",
    "    print(\"Ballet dancer\")\n",
    "else:\n",
    "        print(\"Rugby player\")"
   ]
  }
 ],
 "metadata": {
  "kernelspec": {
   "display_name": "Python 3",
   "language": "python",
   "name": "python3"
  },
  "language_info": {
   "codemirror_mode": {
    "name": "ipython",
    "version": 3
   },
   "file_extension": ".py",
   "mimetype": "text/x-python",
   "name": "python",
   "nbconvert_exporter": "python",
   "pygments_lexer": "ipython3",
   "version": "3.7.2"
  }
 },
 "nbformat": 4,
 "nbformat_minor": 2
}
